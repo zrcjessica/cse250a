{
 "cells": [
  {
   "cell_type": "code",
   "execution_count": 175,
   "metadata": {
    "collapsed": true
   },
   "outputs": [],
   "source": [
    "import numpy as np\n",
    "import pandas as pd\n",
    "import random"
   ]
  },
  {
   "cell_type": "markdown",
   "metadata": {},
   "source": [
    "### Import files"
   ]
  },
  {
   "cell_type": "code",
   "execution_count": 164,
   "metadata": {
    "collapsed": true
   },
   "outputs": [],
   "source": [
    "def load_matrices(file_f):\n",
    "    l = np.zeros([81,81])\n",
    "    with open(file_f, 'r') as f:\n",
    "        for line in f.readlines():\n",
    "            line = line.split()\n",
    "            l[int(line[1])-1,int(line[0])-1] = float(line[2]) # [s',s]\n",
    "    return l"
   ]
  },
  {
   "cell_type": "code",
   "execution_count": 165,
   "metadata": {
    "collapsed": true
   },
   "outputs": [],
   "source": [
    "a1 = load_matrices('hw9_prob_a1.txt')\n",
    "a2 = load_matrices('hw9_prob_a2.txt')\n",
    "a3 = load_matrices('hw9_prob_a3.txt')\n",
    "a4 = load_matrices('hw9_prob_a4.txt')\n",
    "rewards = np.loadtxt('hw9_rewards.txt')\n",
    "gamma = 0.9925"
   ]
  },
  {
   "cell_type": "code",
   "execution_count": 194,
   "metadata": {
    "collapsed": true
   },
   "outputs": [],
   "source": [
    "actions = ['W', 'N', 'E', 'S']  # west, east, north, south\n",
    "num_states = 81"
   ]
  },
  {
   "cell_type": "markdown",
   "metadata": {
    "collapsed": true
   },
   "source": [
    "### 9.3 (a) Compute optimal policy $\\pi^{*}(s)$ and optimal value function $V^*(s)$ using policy iteration\n",
    "- $\\pi'(s) = argmax_{a}[\\sum_{s'}P(s'|s,a)V^{\\pi}(s')]$\n",
    "- $V^{\\pi}=R(s)+\\gamma\\sum_{s'}P(s'|s,\\pi(s))V^{\\pi}(s')$"
   ]
  },
  {
   "cell_type": "code",
   "execution_count": 197,
   "metadata": {
    "collapsed": true
   },
   "outputs": [],
   "source": [
    "action_dict = {'W': a1, 'N': a2, 'E': a3, 'S': a4}\n",
    "def a_matrix(action):\n",
    "    return action_dict[action]"
   ]
  },
  {
   "cell_type": "code",
   "execution_count": 198,
   "metadata": {
    "collapsed": true
   },
   "outputs": [],
   "source": [
    "def policy_eval(policy):\n",
    "    a = []\n",
    "    b = []\n",
    "    v_list = [1]*81     # include V state or not\n",
    "    states = range(81)  # fix\n",
    "    for i in range(len(states)):       # s\n",
    "        b.append(rewards[i])\n",
    "        a.append([gamma*a_matrix(policy[i])[j,i] for j in range(81)])\n",
    "    return np.linalg.solve(np.array(a),np.array(b))"
   ]
  },
  {
   "cell_type": "code",
   "execution_count": 199,
   "metadata": {
    "collapsed": true
   },
   "outputs": [],
   "source": [
    "def greedy(old_policy, v_list): \n",
    "    states = range(81)\n",
    "    pi_vals = np.full([len(states),len(actions)],-np.inf)\n",
    "    \n",
    "    # compute all values\n",
    "    for a in range(len(actions)):\n",
    "        for s in range(len(states)):\n",
    "            pi_vals[s,a] = sum([a_matrix(actions[a])[sp,s] * v_list[sp] for sp in range(81)])\n",
    "    # find best action for each row \n",
    "    best_actions = [actions[np.argmax(row)] for row in pi_vals]\n",
    "    return best_actions\n"
   ]
  },
  {
   "cell_type": "code",
   "execution_count": 200,
   "metadata": {
    "collapsed": true
   },
   "outputs": [],
   "source": [
    "def generate_policy():\n",
    "    l = []\n",
    "    states = range(81)  # fix\n",
    "    for i in range(len(states)):  # 81\n",
    "        l.append(random.choice(actions))\n",
    "    return l"
   ]
  },
  {
   "cell_type": "code",
   "execution_count": 201,
   "metadata": {
    "collapsed": true
   },
   "outputs": [],
   "source": [
    "def converged(new_policy, old_policy):\n",
    "    return new_policy == old_policy"
   ]
  },
  {
   "cell_type": "code",
   "execution_count": 203,
   "metadata": {
    "scrolled": true
   },
   "outputs": [
    {
     "name": "stdout",
     "output_type": "stream",
     "text": [
      "Iteration 1\n",
      "['N', 'E', 'N', 'N', 'S', 'S', 'N', 'W', 'W', 'W', 'S', 'E', 'N', 'E', 'W', 'S', 'W', 'N', 'E', 'N', 'E', 'N', 'W', 'N', 'S', 'N', 'N', 'N', 'N', 'E', 'W', 'N', 'S', 'E', 'E', 'N', 'S', 'E', 'W', 'N', 'N', 'W', 'W', 'S', 'W', 'E', 'S', 'S', 'E', 'N', 'N', 'S', 'N', 'N', 'E', 'W', 'S', 'W', 'S', 'E', 'N', 'S', 'S', 'N', 'N', 'E', 'N', 'S', 'S', 'W', 'N', 'S', 'W', 'S', 'W', 'E', 'S', 'W', 'E', 'N', 'S']\n",
      "Iteration 2\n",
      "['W', 'W', 'E', 'W', 'W', 'W', 'W', 'W', 'W', 'W', 'E', 'E', 'W', 'W', 'E', 'W', 'N', 'W', 'W', 'N', 'W', 'W', 'N', 'E', 'W', 'N', 'W', 'W', 'S', 'W', 'N', 'W', 'W', 'W', 'N', 'W', 'W', 'W', 'W', 'W', 'W', 'W', 'W', 'W', 'W', 'W', 'W', 'E', 'W', 'W', 'W', 'E', 'E', 'W', 'W', 'S', 'S', 'N', 'N', 'S', 'E', 'N', 'W', 'W', 'W', 'W', 'W', 'W', 'W', 'W', 'N', 'W', 'W', 'W', 'W', 'W', 'W', 'W', 'W', 'W', 'W']\n",
      "Iteration 3\n",
      "['W', 'W', 'E', 'W', 'W', 'W', 'W', 'W', 'W', 'W', 'E', 'E', 'W', 'W', 'E', 'W', 'N', 'W', 'W', 'N', 'W', 'W', 'N', 'E', 'W', 'N', 'W', 'W', 'S', 'W', 'N', 'W', 'W', 'W', 'W', 'W', 'W', 'W', 'W', 'W', 'W', 'W', 'W', 'W', 'W', 'W', 'W', 'W', 'W', 'W', 'W', 'E', 'N', 'W', 'W', 'N', 'S', 'S', 'N', 'N', 'E', 'N', 'W', 'W', 'W', 'E', 'W', 'W', 'W', 'E', 'N', 'W', 'W', 'W', 'W', 'W', 'W', 'W', 'W', 'W', 'W']\n",
      "Iteration 4\n",
      "['W', 'W', 'E', 'W', 'W', 'W', 'W', 'W', 'W', 'W', 'E', 'E', 'W', 'W', 'E', 'W', 'N', 'W', 'W', 'N', 'W', 'W', 'N', 'E', 'W', 'N', 'W', 'W', 'S', 'W', 'N', 'W', 'W', 'E', 'W', 'W', 'W', 'W', 'W', 'W', 'W', 'W', 'N', 'W', 'W', 'W', 'W', 'W', 'W', 'W', 'W', 'S', 'W', 'W', 'W', 'N', 'S', 'S', 'N', 'N', 'S', 'W', 'W', 'W', 'W', 'E', 'W', 'W', 'W', 'E', 'W', 'W', 'W', 'W', 'W', 'W', 'W', 'W', 'W', 'W', 'W']\n",
      "Iteration 5\n",
      "['W', 'W', 'E', 'W', 'W', 'W', 'W', 'W', 'W', 'W', 'E', 'E', 'W', 'W', 'E', 'S', 'W', 'W', 'W', 'N', 'W', 'W', 'N', 'E', 'W', 'E', 'W', 'W', 'S', 'W', 'N', 'W', 'W', 'S', 'E', 'W', 'W', 'W', 'W', 'W', 'W', 'W', 'N', 'W', 'W', 'W', 'W', 'W', 'W', 'W', 'W', 'W', 'E', 'W', 'W', 'N', 'S', 'S', 'N', 'N', 'S', 'S', 'W', 'W', 'W', 'E', 'W', 'W', 'W', 'E', 'W', 'W', 'W', 'W', 'W', 'W', 'W', 'W', 'W', 'W', 'W']\n",
      "Iteration 6\n",
      "['W', 'W', 'E', 'W', 'W', 'W', 'W', 'W', 'W', 'W', 'E', 'E', 'W', 'W', 'S', 'W', 'N', 'W', 'W', 'N', 'W', 'W', 'S', 'E', 'W', 'E', 'W', 'W', 'S', 'W', 'W', 'W', 'W', 'E', 'E', 'W', 'W', 'W', 'W', 'W', 'W', 'W', 'N', 'W', 'W', 'W', 'W', 'W', 'W', 'W', 'W', 'W', 'E', 'W', 'W', 'N', 'S', 'S', 'N', 'N', 'S', 'S', 'W', 'W', 'W', 'E', 'W', 'W', 'W', 'E', 'W', 'W', 'W', 'W', 'W', 'W', 'W', 'W', 'W', 'W', 'W']\n",
      "Iteration 7\n",
      "['W', 'W', 'E', 'W', 'W', 'W', 'W', 'W', 'W', 'W', 'E', 'E', 'W', 'W', 'E', 'W', 'N', 'W', 'W', 'N', 'W', 'W', 'N', 'E', 'W', 'N', 'W', 'W', 'S', 'W', 'N', 'W', 'W', 'E', 'W', 'W', 'W', 'W', 'W', 'W', 'W', 'W', 'N', 'W', 'W', 'W', 'W', 'W', 'W', 'W', 'W', 'W', 'E', 'W', 'W', 'N', 'S', 'S', 'N', 'N', 'S', 'S', 'W', 'W', 'W', 'E', 'W', 'W', 'W', 'E', 'W', 'W', 'W', 'W', 'W', 'W', 'W', 'W', 'W', 'W', 'W']\n",
      "Iteration 8\n",
      "['W', 'W', 'E', 'W', 'W', 'W', 'W', 'W', 'W', 'W', 'E', 'E', 'W', 'W', 'E', 'W', 'N', 'W', 'W', 'N', 'W', 'W', 'N', 'E', 'W', 'E', 'W', 'W', 'S', 'W', 'N', 'W', 'W', 'S', 'E', 'W', 'W', 'W', 'W', 'W', 'W', 'W', 'N', 'W', 'W', 'W', 'W', 'W', 'W', 'W', 'W', 'W', 'E', 'W', 'W', 'N', 'S', 'S', 'N', 'N', 'S', 'S', 'W', 'W', 'W', 'E', 'W', 'W', 'W', 'E', 'W', 'W', 'W', 'W', 'W', 'W', 'W', 'W', 'W', 'W', 'W']\n",
      "Iteration 9\n",
      "['W', 'W', 'E', 'W', 'W', 'W', 'W', 'W', 'W', 'W', 'E', 'E', 'W', 'W', 'E', 'W', 'N', 'W', 'W', 'N', 'W', 'W', 'N', 'E', 'W', 'E', 'W', 'W', 'S', 'W', 'N', 'W', 'W', 'E', 'E', 'W', 'W', 'W', 'W', 'W', 'W', 'W', 'N', 'W', 'W', 'W', 'W', 'W', 'W', 'W', 'W', 'W', 'E', 'W', 'W', 'N', 'S', 'S', 'N', 'N', 'S', 'S', 'W', 'W', 'W', 'E', 'W', 'W', 'W', 'E', 'W', 'W', 'W', 'W', 'W', 'W', 'W', 'W', 'W', 'W', 'W']\n",
      "Iteration 10\n",
      "['W', 'W', 'E', 'W', 'W', 'W', 'W', 'W', 'W', 'W', 'E', 'E', 'W', 'W', 'W', 'S', 'W', 'W', 'W', 'N', 'W', 'W', 'N', 'W', 'W', 'W', 'W', 'W', 'S', 'W', 'N', 'W', 'W', 'S', 'E', 'W', 'W', 'W', 'W', 'W', 'W', 'W', 'N', 'W', 'W', 'W', 'W', 'W', 'W', 'W', 'W', 'W', 'E', 'W', 'W', 'N', 'S', 'S', 'N', 'N', 'S', 'S', 'W', 'W', 'W', 'E', 'W', 'W', 'W', 'E', 'W', 'W', 'W', 'W', 'W', 'W', 'W', 'W', 'W', 'W', 'W']\n",
      "Iteration 11\n",
      "['W', 'W', 'E', 'W', 'W', 'W', 'W', 'W', 'W', 'W', 'E', 'E', 'W', 'W', 'W', 'S', 'W', 'W', 'W', 'N', 'W', 'S', 'W', 'W', 'W', 'E', 'W', 'W', 'S', 'W', 'N', 'W', 'W', 'E', 'E', 'W', 'W', 'W', 'W', 'W', 'W', 'W', 'N', 'W', 'W', 'W', 'W', 'W', 'W', 'W', 'W', 'W', 'E', 'W', 'W', 'N', 'S', 'S', 'N', 'N', 'S', 'S', 'W', 'W', 'W', 'E', 'W', 'W', 'W', 'E', 'W', 'W', 'W', 'W', 'W', 'W', 'W', 'W', 'W', 'W', 'W']\n"
     ]
    }
   ],
   "source": [
    "def policy_iteration():\n",
    "    # initiate policy at random\n",
    "    policy = generate_policy()\n",
    "    state_value_func = policy_eval(policy)\n",
    "    \n",
    "    # repeat until convergence\n",
    "    iteration = 1\n",
    "    while True:\n",
    "        if iteration % 1 == 0:\n",
    "            print 'Iteration {}'.format(iteration)\n",
    "            print policy\n",
    "\n",
    "        new_policy = greedy(policy, state_value_func)\n",
    "        new_state_value_func = policy_eval(new_policy)\n",
    "\n",
    "\n",
    "        if all(state_value_func == new_state_value_func):\n",
    "            break\n",
    "        policy = new_policy\n",
    "        state_value_func = new_state_value_func\n",
    "        iteration += 1\n",
    "policy_iteration()"
   ]
  },
  {
   "cell_type": "code",
   "execution_count": 192,
   "metadata": {},
   "outputs": [
    {
     "ename": "NameError",
     "evalue": "name 'state_value_func' is not defined",
     "output_type": "error",
     "traceback": [
      "\u001b[0;31m---------------------------------------------------------------------------\u001b[0m",
      "\u001b[0;31mNameError\u001b[0m                                 Traceback (most recent call last)",
      "\u001b[0;32m<ipython-input-192-b9d33e6f30d7>\u001b[0m in \u001b[0;36m<module>\u001b[0;34m()\u001b[0m\n\u001b[0;32m----> 1\u001b[0;31m \u001b[0mstate_value_func\u001b[0m\u001b[0;34m\u001b[0m\u001b[0m\n\u001b[0m",
      "\u001b[0;31mNameError\u001b[0m: name 'state_value_func' is not defined"
     ]
    }
   ],
   "source": [
    "state_value_func"
   ]
  },
  {
   "cell_type": "code",
   "execution_count": null,
   "metadata": {
    "collapsed": true
   },
   "outputs": [],
   "source": []
  }
 ],
 "metadata": {
  "kernelspec": {
   "display_name": "Python 2",
   "language": "python",
   "name": "python2"
  },
  "language_info": {
   "codemirror_mode": {
    "name": "ipython",
    "version": 2
   },
   "file_extension": ".py",
   "mimetype": "text/x-python",
   "name": "python",
   "nbconvert_exporter": "python",
   "pygments_lexer": "ipython2",
   "version": "2.7.14"
  }
 },
 "nbformat": 4,
 "nbformat_minor": 2
}
