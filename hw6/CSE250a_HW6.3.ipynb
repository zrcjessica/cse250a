{
 "cells": [
  {
   "cell_type": "markdown",
   "metadata": {
    "collapsed": true
   },
   "source": [
    "6.3d\n",
    "==="
   ]
  },
  {
   "cell_type": "code",
   "execution_count": 2,
   "metadata": {
    "collapsed": true
   },
   "outputs": [],
   "source": [
    "import numpy as np"
   ]
  },
  {
   "cell_type": "code",
   "execution_count": 37,
   "metadata": {
    "collapsed": true
   },
   "outputs": [],
   "source": [
    "''' Load files and constants ''' \n",
    "\n",
    "spectX_fh = 'hw6_spectX.txt'\n",
    "spectY_fh = 'hw6_spectY.txt'\n",
    "\n",
    "spectX = np.loadtxt(spectX_fh)\n",
    "spectY = np.loadtxt(spectY_fh)\n",
    "\n",
    "ITERS = 256\n",
    "T = 267 #examples\n",
    "n = 23 #inputs\n",
    "PI0 = 0.05 #initial parameter\n",
    "ITERS_LIST = [0,1,2,4,8,16,32,64,128,256]\n",
    "\n",
    "Ti_arr = np.zeros(n)\n",
    "for i in range(n):\n",
    "    Ti_arr[i] = np.sum(spectX[:,i])"
   ]
  },
  {
   "cell_type": "code",
   "execution_count": 47,
   "metadata": {
    "collapsed": true
   },
   "outputs": [],
   "source": [
    "''' Functions '''\n",
    "\n",
    "# P(Y|X)\n",
    "# give p_arr, x_t (arr), y_t (value)\n",
    "def likelihood(p, x, y):\n",
    "    prod = np.prod((1-p)**x)\n",
    "    out = (1-y)*prod + y*(1-prod)\n",
    "    return(out)\n",
    "\n",
    "# E-step of EM algorithm\n",
    "# give x_t, y_t, p arrays for current iteration of t\n",
    "def e_step(x, y, p):\n",
    "    numer = y*x*p\n",
    "    denom = 1-np.prod((1-p)**x)\n",
    "    return(numer/denom)\n",
    "\n",
    "# main\n",
    "def EM_algorithm(x_data, y_data):\n",
    "    mistakes = [] # mistakes in each iteration\n",
    "    L = [] # log-likelihood for each iteration\n",
    "    p = np.full(n, PI0) #initialize p_arr with 0.05\n",
    "    for i in range(ITERS+1):\n",
    "        L_i = 0\n",
    "        M_i = 0\n",
    "        em_sum = 0\n",
    "        for t in range(T):\n",
    "            p_yx = likelihood(p, x_data[t], y_data[t])\n",
    "            L_i += np.log(p_yx)\n",
    "            em_sum += e_step(x_data[t], y_data[t], p)\n",
    "            if (p_yx < 0.5):\n",
    "                M_i += 1   \n",
    "        p = em_sum/Ti_arr\n",
    "        mistakes.append(M_i)\n",
    "        L.append(L_i/T)\n",
    "        if i in ITERS_LIST:\n",
    "            print('iteration: %d \\t number of mistakes M %d \\t log-likelihood L %f' % (i, M_i, L_i/T))\n",
    "    return(mistakes, L)\n"
   ]
  },
  {
   "cell_type": "markdown",
   "metadata": {},
   "source": [
    "Solution\n",
    "====\n"
   ]
  },
  {
   "cell_type": "code",
   "execution_count": 48,
   "metadata": {},
   "outputs": [
    {
     "name": "stdout",
     "output_type": "stream",
     "text": [
      "iteration: 0 \t number of mistakes M 175 \t log-likelihood L 0\n",
      "iteration: 1 \t number of mistakes M 56 \t log-likelihood L 0\n",
      "iteration: 2 \t number of mistakes M 43 \t log-likelihood L 0\n",
      "iteration: 4 \t number of mistakes M 42 \t log-likelihood L 0\n",
      "iteration: 8 \t number of mistakes M 44 \t log-likelihood L 0\n",
      "iteration: 16 \t number of mistakes M 40 \t log-likelihood L 0\n",
      "iteration: 32 \t number of mistakes M 37 \t log-likelihood L 0\n",
      "iteration: 64 \t number of mistakes M 37 \t log-likelihood L 0\n",
      "iteration: 128 \t number of mistakes M 36 \t log-likelihood L 0\n",
      "iteration: 256 \t number of mistakes M 36 \t log-likelihood L 0\n"
     ]
    }
   ],
   "source": [
    "mistakes_list, log_likelihoods = EM_algorithm(spectX, spectY)"
   ]
  }
 ],
 "metadata": {
  "kernelspec": {
   "display_name": "Python 3",
   "language": "python",
   "name": "python3"
  },
  "language_info": {
   "codemirror_mode": {
    "name": "ipython",
    "version": 3
   },
   "file_extension": ".py",
   "mimetype": "text/x-python",
   "name": "python",
   "nbconvert_exporter": "python",
   "pygments_lexer": "ipython3",
   "version": "3.6.1"
  }
 },
 "nbformat": 4,
 "nbformat_minor": 2
}
