{
 "cells": [
  {
   "cell_type": "markdown",
   "metadata": {},
   "source": [
    "## 6.4 (e) Auxiliary Function"
   ]
  },
  {
   "cell_type": "code",
   "execution_count": 104,
   "metadata": {
    "collapsed": true
   },
   "outputs": [],
   "source": [
    "from numpy import exp, log, cosh, sinh, tanh, sqrt\n",
    "import matplotlib.pyplot as plt\n",
    "import numpy as np\n",
    "%matplotlib inline"
   ]
  },
  {
   "cell_type": "code",
   "execution_count": 44,
   "metadata": {
    "collapsed": true
   },
   "outputs": [],
   "source": [
    "def plot(x):\n",
    "    plt.plot(x)\n",
    "    plt.title('Updates with x_0 = {}'.format(x[0]))\n",
    "    plt.ylabel('X_n')\n",
    "    plt.xlabel('Iterations')"
   ]
  },
  {
   "cell_type": "code",
   "execution_count": 3,
   "metadata": {
    "collapsed": true
   },
   "outputs": [],
   "source": [
    "def test_aux(x0):\n",
    "    x_n_list = []\n",
    "    x_n = x0\n",
    "    for i in range(50):\n",
    "        x_n_list.append(x_n)\n",
    "        x_nplus1 = x_n - tanh(x_n)\n",
    "        x_n = x_nplus1  \n",
    "    return x_n_list"
   ]
  },
  {
   "cell_type": "code",
   "execution_count": 90,
   "metadata": {},
   "outputs": [
    {
     "data": {
      "image/png": "[encoded data removed]",
      "text/plain": [
       "<matplotlib.figure.Figure at 0x106522a10>"
      ]
     },
     "metadata": {},
     "output_type": "display_data"
    }
   ],
   "source": [
    "a = test_aux(-2)\n",
    "plot(a)"
   ]
  },
  {
   "cell_type": "code",
   "execution_count": 91,
   "metadata": {},
   "outputs": [
    {
     "data": {
      "image/png": "[encoded data removed]",
      "text/plain": [
       "<matplotlib.figure.Figure at 0x1067b5550>"
      ]
     },
     "metadata": {},
     "output_type": "display_data"
    }
   ],
   "source": [
    "b = test_aux(3)\n",
    "plot(b)"
   ]
  },
  {
   "cell_type": "markdown",
   "metadata": {},
   "source": [
    "## 6.4 (g) Newton's Method\n",
    "- Repeat part (e) and (f) using update rule for Newton's method"
   ]
  },
  {
   "cell_type": "code",
   "execution_count": 17,
   "metadata": {
    "collapsed": true
   },
   "outputs": [],
   "source": [
    "def test_newton(x0):\n",
    "    x_n_list = []\n",
    "    x_n = x0\n",
    "    for i in range(20):\n",
    "        x_n_list.append(x_n)\n",
    "        x_nplus1 = x_n - sinh(x_n)*cosh(x_n)\n",
    "        x_n = x_nplus1  \n",
    "    return x_n_list"
   ]
  },
  {
   "cell_type": "code",
   "execution_count": 99,
   "metadata": {
    "scrolled": false
   },
   "outputs": [
    {
     "name": "stdout",
     "output_type": "stream",
     "text": [
      "input: -2\n",
      "[-2, 11.644958598563875, -3255536207.1877036, inf, nan]\n",
      "\n",
      "input: 3\n",
      "[3, -97.85657868513961, 2.4836150932578143e+84, -inf, nan]\n",
      "\n",
      "input: 0.5\n",
      "[0.5, -0.087600596821900689, 0.0004488450655322912, -6.0283453413596116e-11, 0.0, 0.0]\n"
     ]
    },
    {
     "name": "stderr",
     "output_type": "stream",
     "text": [
      "/Users/andreacastro/miniconda2/lib/python2.7/site-packages/ipykernel_launcher.py:6: RuntimeWarning: overflow encountered in sinh\n",
      "  \n",
      "/Users/andreacastro/miniconda2/lib/python2.7/site-packages/ipykernel_launcher.py:6: RuntimeWarning: overflow encountered in cosh\n",
      "  \n",
      "/Users/andreacastro/miniconda2/lib/python2.7/site-packages/ipykernel_launcher.py:6: RuntimeWarning: invalid value encountered in double_scalars\n",
      "  \n"
     ]
    },
    {
     "data": {
      "image/png": "[encoded data removed]",
      "text/plain": [
       "<matplotlib.figure.Figure at 0x105a83750>"
      ]
     },
     "metadata": {},
     "output_type": "display_data"
    }
   ],
   "source": [
    "# don't converge\n",
    "print 'input: -2\\n{}\\n'.format(test_newton(-2)[:5])\n",
    "print 'input: 3\\n{}\\n'.format(test_newton(3)[:5])\n",
    "\n",
    "# converges\n",
    "c = test_newton(0.5)\n",
    "print 'input: 0.5\\n{}'.format(c[:6])\n",
    "plot(c)"
   ]
  },
  {
   "cell_type": "code",
   "execution_count": 114,
   "metadata": {
    "scrolled": true
   },
   "outputs": [
    {
     "name": "stdout",
     "output_type": "stream",
     "text": [
      "1.0887\n"
     ]
    },
    {
     "name": "stderr",
     "output_type": "stream",
     "text": [
      "/Users/andreacastro/miniconda2/lib/python2.7/site-packages/ipykernel_launcher.py:6: RuntimeWarning: overflow encountered in sinh\n",
      "  \n",
      "/Users/andreacastro/miniconda2/lib/python2.7/site-packages/ipykernel_launcher.py:6: RuntimeWarning: overflow encountered in cosh\n",
      "  \n",
      "/Users/andreacastro/miniconda2/lib/python2.7/site-packages/ipykernel_launcher.py:6: RuntimeWarning: invalid value encountered in double_scalars\n",
      "  \n"
     ]
    }
   ],
   "source": [
    "# find upper bound\n",
    "l = np.arange(0.001, 2, 0.0001)\n",
    "for i in l:\n",
    "    t = test_newton(i)\n",
    "    if 'nan' in str(t) or '-inf' in str(t):\n",
    "        break\n",
    "print i"
   ]
  },
  {
   "cell_type": "markdown",
   "metadata": {
    "collapsed": true
   },
   "source": [
    "### 6.4 (k)\n",
    "- Locate minimum of g(x) to four significant digits"
   ]
  },
  {
   "cell_type": "code",
   "execution_count": 122,
   "metadata": {
    "collapsed": true
   },
   "outputs": [],
   "source": [
    "def g_sum(x):\n",
    "    s = 0\n",
    "    for k in range(1,11):\n",
    "        s += tanh(x+(2/sqrt(k)))\n",
    "    return 0.1*s"
   ]
  },
  {
   "cell_type": "code",
   "execution_count": 123,
   "metadata": {
    "collapsed": true
   },
   "outputs": [],
   "source": [
    "def test(x0):\n",
    "    x_n_list = []\n",
    "    x_n = x0\n",
    "    for i in range(50):\n",
    "        x_n_list.append(x_n)\n",
    "        x_nplus1 = x_n - g_sum(x_n)\n",
    "        x_n = x_nplus1  \n",
    "    return x_n_list"
   ]
  },
  {
   "cell_type": "code",
   "execution_count": 124,
   "metadata": {},
   "outputs": [
    {
     "name": "stdout",
     "output_type": "stream",
     "text": [
      "[-0.97998265744352508, -0.97998265744352508, -0.97998265744352508]\n"
     ]
    },
    {
     "data": {
      "image/png": "[encoded data removed]",
      "text/plain": [
       "<matplotlib.figure.Figure at 0x105351850>"
      ]
     },
     "metadata": {},
     "output_type": "display_data"
    }
   ],
   "source": [
    "a = test(-2)\n",
    "print a[-3:]\n",
    "plot(a)"
   ]
  },
  {
   "cell_type": "code",
   "execution_count": 125,
   "metadata": {},
   "outputs": [
    {
     "name": "stdout",
     "output_type": "stream",
     "text": [
      "[-0.97998265744352508, -0.97998265744352508, -0.97998265744352508]\n"
     ]
    },
    {
     "data": {
      "image/png": "[encoded data removed]",
      "text/plain": [
       "<matplotlib.figure.Figure at 0x1052a0810>"
      ]
     },
     "metadata": {},
     "output_type": "display_data"
    }
   ],
   "source": [
    "b = test(3)\n",
    "print b[-3:]\n",
    "plot(b)"
   ]
  },
  {
   "cell_type": "code",
   "execution_count": null,
   "metadata": {
    "collapsed": true
   },
   "outputs": [],
   "source": []
  }
 ],
 "metadata": {
  "kernelspec": {
   "display_name": "Python 3",
   "language": "python",
   "name": "python3"
  },
  "language_info": {
   "codemirror_mode": {
    "name": "ipython",
    "version": 3
   },
   "file_extension": ".py",
   "mimetype": "text/x-python",
   "name": "python",
   "nbconvert_exporter": "python",
   "pygments_lexer": "ipython3",
   "version": "3.6.1"
  }
 },
 "nbformat": 4,
 "nbformat_minor": 2
}
