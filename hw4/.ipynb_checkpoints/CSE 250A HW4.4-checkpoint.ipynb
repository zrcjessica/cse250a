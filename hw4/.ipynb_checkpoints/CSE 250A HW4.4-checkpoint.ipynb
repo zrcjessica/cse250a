{
 "cells": [
  {
   "cell_type": "code",
   "execution_count": 1,
   "metadata": {
    "collapsed": true
   },
   "outputs": [],
   "source": [
    "import numpy as np"
   ]
  },
  {
   "cell_type": "code",
   "execution_count": 13,
   "metadata": {},
   "outputs": [],
   "source": [
    "# load files\n",
    "nasdaq00_fh = 'hw4_nasdaq00.txt'\n",
    "nasdaq01_fh = 'hw4_nasdaq01.txt'\n",
    "\n",
    "nasdaq00_list, nasdaq01_list = [],[]\n",
    "with open(nasdaq00_fh) as inFile1, open(nasdaq01_fh) as inFile2:\n",
    "    for line in inFile1:\n",
    "        nasdaq00_list.append(float(line.strip()))\n",
    "    for line in inFile2:\n",
    "        nasdaq01_list.append(float(line.strip()))"
   ]
  },
  {
   "cell_type": "code",
   "execution_count": 37,
   "metadata": {},
   "outputs": [
    {
     "name": "stdout",
     "output_type": "stream",
     "text": [
      "[a1 a2 a3] = [ 0.95067337  0.01560133  0.03189569]\n"
     ]
    }
   ],
   "source": [
    "# 4.4a\n",
    "def process(nasdaq):\n",
    "    xt = np.asarray(nasdaq[3:])\n",
    "    priors = []\n",
    "    #[[x_(t-1), x_(t-2), x_(t-3)],...]\n",
    "    for i in range(len(nasdaq)-3):\n",
    "        priors.append([nasdaq[i+2], nasdaq[i+1], nasdaq[i]])\n",
    "    priors = np.array(priors)\n",
    "    return xt, priors\n",
    "\n",
    "xt_00, priors_00 = process(nasdaq00_list)\n",
    "\n",
    "def params(xt, priors):    \n",
    "    left = np.linalg.inv(np.dot(priors.transpose(), priors))\n",
    "    right = np.dot(priors.transpose(), xt)\n",
    "    params = np.squeeze(np.asarray(np.dot(left, right)))\n",
    "    return(params)\n",
    "\n",
    "# [a1 a2 a3]\n",
    "params_00 = params(xt_00, priors_00)\n",
    "\n",
    "print('[a1 a2 a3] = ' + str(params_00))"
   ]
  },
  {
   "cell_type": "code",
   "execution_count": 65,
   "metadata": {},
   "outputs": [
    {
     "name": "stdout",
     "output_type": "stream",
     "text": [
      "mse_00 = 13902.4010764\n",
      "mse_01 = 2985.09792411\n"
     ]
    }
   ],
   "source": [
    "# 4.4b\n",
    "# estimates don't give first three values because they are evidence\n",
    "est_00 = np.sum(priors_00*np.tile(params_00,(len(xt_00),1)), axis=1)\n",
    "xt_01, priors_01 = process(nasdaq01_list)\n",
    "est_01 = np.sum(priors_01*np.tile(params_00,(len(xt_01),1)), axis=1)\n",
    "mse_00 = ((est_00-np.asarray(nasdaq00_list[3:]))**2).mean()\n",
    "mse_01 = ((est_01-np.asarray(nasdaq01_list[3:]))**2).mean()\n",
    "print('mse_00 = %s' % mse_00)\n",
    "print('mse_01 = %s' % mse_01)"
   ]
  }
 ],
 "metadata": {
  "kernelspec": {
   "display_name": "Python 3",
   "language": "python",
   "name": "python3"
  },
  "language_info": {
   "codemirror_mode": {
    "name": "ipython",
    "version": 3
   },
   "file_extension": ".py",
   "mimetype": "text/x-python",
   "name": "python",
   "nbconvert_exporter": "python",
   "pygments_lexer": "ipython3",
   "version": "3.6.1"
  }
 },
 "nbformat": 4,
 "nbformat_minor": 2
}
