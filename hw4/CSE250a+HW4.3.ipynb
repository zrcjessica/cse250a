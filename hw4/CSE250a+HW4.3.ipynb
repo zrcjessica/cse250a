{
 "cells": [
  {
   "cell_type": "code",
   "execution_count": 122,
   "metadata": {
    "collapsed": true
   },
   "outputs": [],
   "source": [
    "import pandas as pd\n",
    "import numpy as np\n",
    "import pylab"
   ]
  },
  {
   "cell_type": "code",
   "execution_count": 123,
   "metadata": {},
   "outputs": [],
   "source": [
    "# load files and process\n",
    "vocab_fh = 'hw4_vocab.txt'\n",
    "unigram_fh = 'hw4_unigram.txt'\n",
    "bigram_fh = 'hw4_bigram.txt'\n",
    "\n",
    "vocab_list, counts_list = [],[]\n",
    "with open(vocab_fh) as inFile:\n",
    "    vocab_list = inFile.read().splitlines()\n",
    "with open(unigram_fh) as inFile:\n",
    "    for line in inFile:\n",
    "        counts_list.append(int(line.strip()))\n",
    "dfBigram = pd.read_table(bigram_fh, names=['index(w1)', 'index(w2)', 'count(w1,w2)'])\n",
    "\n",
    "totWords = sum(count for count in counts_list)\n",
    "count_dict = dict(zip(vocab_list, counts_list))"
   ]
  },
  {
   "cell_type": "code",
   "execution_count": 124,
   "metadata": {},
   "outputs": [],
   "source": [
    "# 4.3a\n",
    "M_list = [word for word in vocab_list if (word[0] == 'M')]\n",
    "def unigram(word):\n",
    "    wordCount = count_dict[word]\n",
    "    return(wordCount/totWords)\n",
    "\n",
    "with open('hw4.3a_out.txt','w') as out_fh:\n",
    "    for word in M_list:\n",
    "        out_fh.write(word + ' ' + str(unigram(word)) + '\\n')"
   ]
  },
  {
   "cell_type": "code",
   "execution_count": 125,
   "metadata": {},
   "outputs": [
    {
     "name": "stderr",
     "output_type": "stream",
     "text": [
      "/home/jlzhou/anaconda3/lib/python3.6/site-packages/ipykernel_launcher.py:17: SettingWithCopyWarning: \n",
      "A value is trying to be set on a copy of a slice from a DataFrame\n",
      "\n",
      "See the caveats in the documentation: http://pandas.pydata.org/pandas-docs/stable/indexing.html#indexing-view-versus-copy\n"
     ]
    }
   ],
   "source": [
    "# 4.3b\n",
    "\n",
    "# w2 follows w1\n",
    "def bigram(w1, w2):\n",
    "    w1Tot = count_dict[w1]\n",
    "    w1_idx = vocab_list.index(w1) + 1\n",
    "    w2_idx = vocab_list.index(w2) + 1\n",
    "    count = dfBigram['count(w1,w2)'].loc[(dfBigram['index(w1)'] == w1_idx) & (dfBigram['index(w2)'] == w2_idx),]\n",
    "    if count.shape[0] != 0:\n",
    "        return(float(count)/w1Tot) \n",
    "    else:\n",
    "        return(0)\n",
    "\n",
    "# 10 most likely words to follow the word \"THE\", along with their numerical bigram probabilities\n",
    "the_idx = vocab_list.index('THE') + 1\n",
    "subdf = dfBigram.loc[dfBigram['index(w1)'] == the_idx]\n",
    "subdf.sort_values(by='count(w1,w2)', ascending=False, inplace=True)\n",
    "subdf = subdf.reset_index(drop=True).iloc[0:10,:]\n",
    "w2_list = []\n",
    "for each in list(subdf['index(w2)']):\n",
    "    w2_list.append(vocab_list[each-1])\n",
    "p_bigram_out = []\n",
    "for w2 in w2_list:\n",
    "    p_bigram_out.append(bigram('THE', w2)) \n",
    "\n",
    "# write output to file\n",
    "with open('hw4.3b_out_test.txt','w') as outfh:\n",
    "    for i in range(len(w2_list)):\n",
    "        outfh.write(w2_list[i] + ' ' + str(p_bigram_out[i]) + '\\n')"
   ]
  },
  {
   "cell_type": "code",
   "execution_count": 126,
   "metadata": {},
   "outputs": [
    {
     "name": "stdout",
     "output_type": "stream",
     "text": [
      "4.3c\n",
      "THE STOCK MARKET FELL BY ONE HUNDRED POINTS LAST WEEK\n",
      "L_u = -64.509440\n",
      "L_b = -40.918132\n"
     ]
    }
   ],
   "source": [
    "# 4.3c\n",
    "print('4.3c')\n",
    "c_sentence_u = ['THE','STOCK','MARKET','FELL','BY','ONE','HUNDRED','POINTS','LAST','WEEK']\n",
    "c_sentence_b = ['<s>','THE','STOCK','MARKET','FELL','BY','ONE','HUNDRED','POINTS','LAST','WEEK']\n",
    "print(' '.join(c_sentence_u))\n",
    "\n",
    "# unigram model\n",
    "p_unigram_c = []\n",
    "for word in c_sentence_u:\n",
    "    p_unigram_c.append(unigram(word))\n",
    "likelihood_u = np.log(np.prod(np.asarray(p_unigram_c)))\n",
    "print('L_u = %f' % likelihood_u)\n",
    "\n",
    "# bigram model\n",
    "p_bigram_c = []\n",
    "for i in range(1,len(c_sentence_b)):\n",
    "    w1_idx = i-1\n",
    "    w2_idx = i\n",
    "    p_bigram_c.append(bigram(c_sentence_b[w1_idx], c_sentence_b[w2_idx]))\n",
    "likelihood_b = np.log(np.prod(np.asarray(p_bigram_c)))\n",
    "print('L_b = %f' % likelihood_b)\n"
   ]
  },
  {
   "cell_type": "code",
   "execution_count": 127,
   "metadata": {},
   "outputs": [
    {
     "name": "stdout",
     "output_type": "stream",
     "text": [
      "4.3d\n",
      "THE SIXTEEN OFFICIALS SOLD FIRE INSURANCE\n",
      "L_u = -44.291934\n",
      "Warning: divide by zero encountered in log, returning 0\n",
      "L_b = 0.000000\n"
     ]
    },
    {
     "name": "stderr",
     "output_type": "stream",
     "text": [
      "/home/jlzhou/anaconda3/lib/python3.6/site-packages/ipykernel_launcher.py:20: RuntimeWarning: divide by zero encountered in log\n"
     ]
    }
   ],
   "source": [
    "# 4.3d\n",
    "print('4.3d')\n",
    "d_sentence_u = ['THE','SIXTEEN','OFFICIALS','SOLD','FIRE','INSURANCE']\n",
    "d_sentence_b = ['<s>','THE','SIXTEEN','OFFICIALS','SOLD','FIRE','INSURANCE']\n",
    "print(' '.join(d_sentence_u))\n",
    "\n",
    "# unigram model\n",
    "p_unigram_d = []\n",
    "for word in d_sentence_u:\n",
    "    p_unigram_d.append(unigram(word))\n",
    "likelihood_u = np.log(np.prod(np.asarray(p_unigram_d)))\n",
    "print('L_u = %f' % likelihood_u)\n",
    "\n",
    "# bigram model\n",
    "p_bigram_d = []\n",
    "for i in range(1,len(d_sentence_b)):\n",
    "    w1_idx = i-1\n",
    "    w2_idx = i\n",
    "    p_bigram_d.append(bigram(sentence_b[w1_idx], d_sentence_b[w2_idx]))\n",
    "likelihood_b = np.log(np.prod(np.asarray(p_bigram_d)))\n",
    "if np.isinf(likelihood_b):\n",
    "    print('Warning: divide by zero encountered in log, returning 0')\n",
    "    likelihood_b == 0\n",
    "print('L_b = %f' % likelihood_b_adj)\n"
   ]
  },
  {
   "cell_type": "code",
   "execution_count": 128,
   "metadata": {},
   "outputs": [
    {
     "name": "stderr",
     "output_type": "stream",
     "text": [
      "/home/jlzhou/anaconda3/lib/python3.6/site-packages/ipykernel_launcher.py:9: RuntimeWarning: divide by zero encountered in log\n",
      "  if __name__ == '__main__':\n"
     ]
    },
    {
     "data": {
      "image/png": "[encoded data removed]",
      "text/plain": [
       "<matplotlib.figure.Figure at 0x7fd477df9080>"
      ]
     },
     "metadata": {},
     "output_type": "display_data"
    },
    {
     "name": "stdout",
     "output_type": "stream",
     "text": [
      "optimal value of lambda = 0.77\n"
     ]
    }
   ],
   "source": [
    "# 4.3e\n",
    "\n",
    "# mixed model\n",
    "def log_Pm(lambda_val):\n",
    "    Pm_list = []\n",
    "    for i in range(len(p_unigram_d)):\n",
    "        Pm = lambda_val*p_unigram_d[i] + (1-lambda_val)*p_bigram_d[i]\n",
    "        Pm_list.append(Pm)\n",
    "    out = np.log(np.prod(np.asarray(Pm_list)))\n",
    "#     if np.isinf(out):\n",
    "#         print('Warning: divide by zero encountered in log, returning 0')\n",
    "#         out = 0\n",
    "    return(out)\n",
    "\n",
    "# generate plot data\n",
    "lambda_arr = np.linspace(0,1,100)\n",
    "vfunc = np.vectorize(log_Pm)\n",
    "y = vfunc(lambda_arr)\n",
    "\n",
    "# plot\n",
    "pylab.plot(lambda_arr,y)\n",
    "pylab.plot(lambda_arr,y,'co') # same function with cyan dots\n",
    "pylab.show() # show the plot\n",
    "\n",
    "# max value\n",
    "print('optimal value of lambda = ' + format(lambda_arr[y.argmax()], '.2f'))\n"
   ]
  }
 ],
 "metadata": {
  "kernelspec": {
   "display_name": "Python 3",
   "language": "python",
   "name": "python3"
  },
  "language_info": {
   "codemirror_mode": {
    "name": "ipython",
    "version": 3
   },
   "file_extension": ".py",
   "mimetype": "text/x-python",
   "name": "python",
   "nbconvert_exporter": "python",
   "pygments_lexer": "ipython3",
   "version": "3.6.1"
  }
 },
 "nbformat": 4,
 "nbformat_minor": 2
}
