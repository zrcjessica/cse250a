{
 "cells": [
  {
   "cell_type": "markdown",
   "metadata": {},
   "source": [
    "# 8.1 EM Algorithm for binary matrix completion"
   ]
  },
  {
   "cell_type": "code",
   "execution_count": 121,
   "metadata": {
    "collapsed": true
   },
   "outputs": [],
   "source": [
    "import numpy as np\n",
    "import operator"
   ]
  },
  {
   "cell_type": "code",
   "execution_count": 135,
   "metadata": {},
   "outputs": [],
   "source": [
    "# load files\n",
    "movieTitles = open('hw8_movieTitles.txt').read().splitlines()\n",
    "studentPIDs = open('hw8_studentPIDs.txt').read().splitlines()\n",
    "# movieRatings = open('hw8_ratings.txt').read().splitlines()\n",
    "movieRatings = np.loadtxt('hw8_ratings.txt', dtype='str')"
   ]
  },
  {
   "cell_type": "markdown",
   "metadata": {},
   "source": [
    "### a) Sanity check"
   ]
  },
  {
   "cell_type": "code",
   "execution_count": 134,
   "metadata": {},
   "outputs": [
    {
     "ename": "TypeError",
     "evalue": "'NoneType' object is not callable",
     "output_type": "error",
     "traceback": [
      "\u001b[0;31m---------------------------------------------------------------------------\u001b[0m",
      "\u001b[0;31mTypeError\u001b[0m                                 Traceback (most recent call last)",
      "\u001b[0;32m<ipython-input-134-d197cfb62e6d>\u001b[0m in \u001b[0;36m<module>\u001b[0;34m()\u001b[0m\n\u001b[1;32m      7\u001b[0m     \u001b[0mmeanRatings\u001b[0m\u001b[0;34m.\u001b[0m\u001b[0mappend\u001b[0m\u001b[0;34m(\u001b[0m\u001b[0mratio\u001b[0m\u001b[0;34m)\u001b[0m\u001b[0;34m\u001b[0m\u001b[0m\n\u001b[1;32m      8\u001b[0m \u001b[0;34m\u001b[0m\u001b[0m\n\u001b[0;32m----> 9\u001b[0;31m \u001b[0msorted\u001b[0m\u001b[0;34m(\u001b[0m\u001b[0mzip\u001b[0m\u001b[0;34m(\u001b[0m\u001b[0mmovieTitles\u001b[0m\u001b[0;34m,\u001b[0m \u001b[0mmeanRatings\u001b[0m\u001b[0;34m)\u001b[0m\u001b[0;34m,\u001b[0m \u001b[0mkey\u001b[0m\u001b[0;34m=\u001b[0m\u001b[0;32mlambda\u001b[0m \u001b[0mx\u001b[0m\u001b[0;34m:\u001b[0m \u001b[0mx\u001b[0m\u001b[0;34m[\u001b[0m\u001b[0;36m1\u001b[0m\u001b[0;34m]\u001b[0m\u001b[0;34m)\u001b[0m\u001b[0;34m\u001b[0m\u001b[0m\n\u001b[0m",
      "\u001b[0;31mTypeError\u001b[0m: 'NoneType' object is not callable"
     ]
    }
   ],
   "source": [
    "meanRatings = []\n",
    "for i in range(len(movieTitles)):\n",
    "    ratingsVec = movieRatings[:,i]\n",
    "    numRecommended = (ratingsVec == '1').sum()\n",
    "    numSeen = (ratingsVec != '?').sum()\n",
    "    ratio = numRecommended*1.0/numSeen\n",
    "    meanRatings.append(ratio)\n",
    "    \n",
    "sorted(zip(movieTitles, meanRatings), key=lambda x: x[1])"
   ]
  },
  {
   "cell_type": "code",
   "execution_count": 129,
   "metadata": {},
   "outputs": [
    {
     "name": "stdout",
     "output_type": "stream",
     "text": [
      "[0.99593495934959353, 0.89411764705882357, 0.80991735537190079, 0.90780141843971629, 0.35714285714285715, 0.8041666666666667, 0.69230769230769229, 0.81034482758620685, 0.67832167832167833, 0.66463414634146345, 0.73604060913705582, 0.8318965517241379, 0.55555555555555558, 0.78947368421052633, 0.76373626373626369, 0.63636363636363635, 0.72499999999999998, 0.797752808988764, 0.5436893203883495, 0.69512195121951215, 0.80090497737556565, 0.92558139534883721, 0.67129629629629628, 0.7890625, 0.66666666666666663, 0.74528301886792447, 0.73584905660377353, 0.52459016393442626, 0.80412371134020622, 0.75483870967741939, 0.79005524861878451, 0.8606060606060606, 0.77906976744186052, 0.84090909090909094, 0.58999999999999997, 0.71590909090909094, 0.59154929577464788, 0.83941605839416056, 0.7857142857142857, 0.9144144144144144, 0.84070796460176989, 0.74857142857142855, 0.6333333333333333, 0.75401069518716579, 0.33093525179856115, 0.72988505747126442, 0.7857142857142857, 0.90140845070422537, 0.68253968253968256, 0.76699029126213591]\n",
      "\n",
      "\n",
      "<type 'list'>\n"
     ]
    },
    {
     "ename": "TypeError",
     "evalue": "'NoneType' object is not callable",
     "output_type": "error",
     "traceback": [
      "\u001b[0;31m---------------------------------------------------------------------------\u001b[0m",
      "\u001b[0;31mTypeError\u001b[0m                                 Traceback (most recent call last)",
      "\u001b[0;32m<ipython-input-129-9637435f7a9e>\u001b[0m in \u001b[0;36m<module>\u001b[0;34m()\u001b[0m\n\u001b[1;32m      2\u001b[0m \u001b[0;32mprint\u001b[0m \u001b[0;34m'\\n'\u001b[0m\u001b[0;34m\u001b[0m\u001b[0m\n\u001b[1;32m      3\u001b[0m \u001b[0;32mprint\u001b[0m \u001b[0mtype\u001b[0m\u001b[0;34m(\u001b[0m\u001b[0mmeanRatings\u001b[0m\u001b[0;34m)\u001b[0m\u001b[0;34m\u001b[0m\u001b[0m\n\u001b[0;32m----> 4\u001b[0;31m \u001b[0;32mprint\u001b[0m \u001b[0msorted\u001b[0m\u001b[0;34m(\u001b[0m\u001b[0mmeanRatings\u001b[0m\u001b[0;34m)\u001b[0m\u001b[0;34m\u001b[0m\u001b[0m\n\u001b[0m",
      "\u001b[0;31mTypeError\u001b[0m: 'NoneType' object is not callable"
     ]
    }
   ],
   "source": [
    "print meanRatings\n",
    "print '\\n'\n",
    "print type(meanRatings)\n",
    "print sorted(meanRatings)"
   ]
  },
  {
   "cell_type": "markdown",
   "metadata": {},
   "source": [
    "### b) Likelihood"
   ]
  },
  {
   "cell_type": "code",
   "execution_count": null,
   "metadata": {
    "collapsed": true
   },
   "outputs": [],
   "source": []
  }
 ],
 "metadata": {
  "kernelspec": {
   "display_name": "Python 2",
   "language": "python",
   "name": "python2"
  },
  "language_info": {
   "codemirror_mode": {
    "name": "ipython",
    "version": 2
   },
   "file_extension": ".py",
   "mimetype": "text/x-python",
   "name": "python",
   "nbconvert_exporter": "python",
   "pygments_lexer": "ipython2",
   "version": "2.7.14"
  }
 },
 "nbformat": 4,
 "nbformat_minor": 2
}
