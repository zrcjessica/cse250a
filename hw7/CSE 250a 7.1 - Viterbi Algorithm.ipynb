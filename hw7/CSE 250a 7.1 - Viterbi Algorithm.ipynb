{
 "cells": [
  {
   "cell_type": "markdown",
   "metadata": {},
   "source": [
    "# Viterbi algorithm"
   ]
  },
  {
   "cell_type": "code",
   "execution_count": 2,
   "metadata": {
    "collapsed": true
   },
   "outputs": [],
   "source": [
    "import numpy as np\n",
    "import matplotlib.pyplot as plt\n",
    "%matplotlib inline\n",
    "import string"
   ]
  },
  {
   "cell_type": "code",
   "execution_count": 133,
   "metadata": {
    "collapsed": true
   },
   "outputs": [],
   "source": [
    "# load files\n",
    "observations_fh = 'hw7_observations.txt'\n",
    "transitionMtx_fh = 'hw7_transitionMatrix.txt'\n",
    "emissionMtx_fh = 'hw7_emissionMatrix.txt'\n",
    "initialState_fh = 'hw7_initialStateDistribution.txt'\n",
    "\n",
    "observations = np.loadtxt(observations_fh, dtype='int') # O_t, binary\n",
    "transition = np.loadtxt(transitionMtx_fh) # a_ij, 27x27\n",
    "emission = np.loadtxt(emissionMtx_fh) # b_ik, 27x2\n",
    "initialState = np.loadtxt(initialState_fh) # pi_i, 27x1\n",
    "\n",
    "# values\n",
    "n = 27 # number of hidden states from {1,2,...,27}\n",
    "m = 2\n",
    "T = 240000 # number of observations\n",
    "\n",
    "# alphabet dict\n",
    "alphaDict = dict(zip(range(1,28), string.ascii_lowercase + ' '))\n",
    "\n",
    "# preallocate matrix l* (nxT)\n",
    "l = np.empty([n,T])\n",
    "# initialize first column of l*\n",
    "l[:,0] = np.log(initialState) + np.log(emission[:, observations[0]])\n",
    "\n",
    "# preallocate matrix Phi (nxT)\n",
    "phi = np.empty([n,T])\n",
    "# initialize first column of Phi\n",
    "phi[:,0] = initialState\n",
    "\n",
    "# initialize s* sequence\n",
    "s = np.full(T, -1, dtype=int)"
   ]
  },
  {
   "cell_type": "code",
   "execution_count": 1,
   "metadata": {
    "collapsed": true
   },
   "outputs": [],
   "source": [
    "# functions\n",
    "\n",
    "'''\n",
    "update l* and phi\n",
    "computes l*_(j,t+1), phi_(j,t+1)\n",
    "row = j\n",
    "col = t+1\n",
    "'''\n",
    "def update(row, col):\n",
    "    state_transitions = l[:,col-1] + np.log(transition[:, row])\n",
    "    most_likely = int(np.argmax(state_transitions)) # update phi\n",
    "    new_l = np.amax(state_transitions) + np.log(emission[row, observations[col]]) # update l*\n",
    "    return most_likely, new_l\n",
    "\n",
    "'''\n",
    "backtrack to compute s* = {s1*, s2*, ..., sT*}\n",
    "return st* for t in T\n",
    "indexes l and phi (global variables)\n",
    "'''\n",
    "def backtrack(t_idx):\n",
    "    if t_idx==T-1:\n",
    "        return int(np.argmax(l[:,T-1])) # T-1 to account for 0-based index\n",
    "    else:\n",
    "        return int(np.argmax(l[:,t_idx] + np.log(transition[:,s[t_idx+1]])))\n",
    "\n",
    "''' run Viterbi algorithm '''\n",
    "def Viterbi():\n",
    "    # forward - filling Phi and l* matrix\n",
    "    for t in xrange(T-1):\n",
    "        for j in xrange(n):\n",
    "            phi[j,t+1], l[j,t+1] = update(j,t+1)\n",
    "    # backtrack\n",
    "    for t in xrange(T-1,-1,-1):\n",
    "        s[t] = int(backtrack(t))\n",
    "\n",
    "''' plot most likely hidden states versus time '''\n",
    "def plot_HMM():\n",
    "    plt.plot(s)\n",
    "    plt.title('Most likely sequence of hidden states versus time')\n",
    "    plt.xlabel('time (t)')\n",
    "    plt.ylabel('Hidden states (s_t)')\n",
    "\n",
    "''' check answer by decoding hidden message '''\n",
    "def decode():\n",
    "    message = []\n",
    "    for t in xrange(T-1):\n",
    "        if s[t] != s[t+1]:\n",
    "            message.append(alphaDict.get(s[t]+1))\n",
    "    message.append(alphaDict.get(s[T-1]+1))\n",
    "    return ''.join(message)"
   ]
  },
  {
   "cell_type": "markdown",
   "metadata": {},
   "source": [
    "### Run Viterbi algorithm and update global variables l, phi and s"
   ]
  },
  {
   "cell_type": "code",
   "execution_count": 143,
   "metadata": {
    "collapsed": true
   },
   "outputs": [],
   "source": [
    "Viterbi()"
   ]
  },
  {
   "cell_type": "markdown",
   "metadata": {},
   "source": [
    "### Plot hidden states at times points in T"
   ]
  },
  {
   "cell_type": "code",
   "execution_count": 144,
   "metadata": {},
   "outputs": [
    {
     "data": {
      "image/png": "[encoded data removed]",
      "text/plain": [
       "<matplotlib.figure.Figure at 0x7f190b580d50>"
      ]
     },
     "metadata": {},
     "output_type": "display_data"
    }
   ],
   "source": [
    "plot_HMM()"
   ]
  },
  {
   "cell_type": "markdown",
   "metadata": {},
   "source": [
    "### Decode hidden message"
   ]
  },
  {
   "cell_type": "code",
   "execution_count": 156,
   "metadata": {},
   "outputs": [
    {
     "name": "stdout",
     "output_type": "stream",
     "text": [
      "truth is stranger than fiction\n"
     ]
    }
   ],
   "source": [
    "hidden_message = decode()\n",
    "print hidden_message"
   ]
  }
 ],
 "metadata": {
  "kernelspec": {
   "display_name": "Python 2",
   "language": "python",
   "name": "python2"
  },
  "language_info": {
   "codemirror_mode": {
    "name": "ipython",
    "version": 2
   },
   "file_extension": ".py",
   "mimetype": "text/x-python",
   "name": "python",
   "nbconvert_exporter": "python",
   "pygments_lexer": "ipython2",
   "version": "2.7.14"
  }
 },
 "nbformat": 4,
 "nbformat_minor": 2
}
