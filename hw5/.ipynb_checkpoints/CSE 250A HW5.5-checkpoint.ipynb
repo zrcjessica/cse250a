{
 "cells": [
  {
   "cell_type": "code",
   "execution_count": 1,
   "metadata": {},
   "outputs": [
    {
     "data": {
      "text/plain": [
       "'\\nPerforming logistic regression via GRADIENT ASCENT to classify handwritten digits\\n'"
      ]
     },
     "execution_count": 1,
     "metadata": {},
     "output_type": "execute_result"
    }
   ],
   "source": [
    "'''\n",
    "Performing logistic regression via GRADIENT ASCENT to classify handwritten digits\n",
    "'''"
   ]
  },
  {
   "cell_type": "code",
   "execution_count": 75,
   "metadata": {
    "collapsed": true
   },
   "outputs": [],
   "source": [
    "import numpy as np\n",
    "import matplotlib.pyplot as plt\n",
    "%matplotlib inline"
   ]
  },
  {
   "cell_type": "code",
   "execution_count": 76,
   "metadata": {},
   "outputs": [],
   "source": [
    "# load files\n",
    "train3_fh = 'hw5_train3.txt'\n",
    "test3_fh = 'hw5_test3.txt'\n",
    "train5_fh = 'hw5_train5.txt'\n",
    "test5_fh = 'hw5_test5.txt'\n",
    "\n",
    "train3 = np.loadtxt(train3_fh, dtype=int)\n",
    "test3 = np.loadtxt(test3_fh, dtype=int)\n",
    "train5 = np.loadtxt(train5_fh, dtype=int)\n",
    "test5 = np.loadtxt(test5_fh, dtype=int)\n",
    "\n",
    "# collect together\n",
    "train = np.append(train3, train5, axis=0)\n",
    "test = np.append(test3, test5, axis=0)\n",
    "train_labs = [0] * train3.shape[0] + [1] * train5.shape[0]\n",
    "test_labs = [0] * test3.shape[0] + [1] * test5.shape[0]\n",
    "\n",
    "# CONSTANTS\n",
    "STEPS = 5000"
   ]
  },
  {
   "cell_type": "code",
   "execution_count": 71,
   "metadata": {},
   "outputs": [],
   "source": [
    "# functions\n",
    "def sigmoid(w,xt):\n",
    "    z = np.dot(w,xt)\n",
    "    return(1/(1+np.exp(-z)))\n",
    "\n",
    "def log_likelihood(yt, w, xt):\n",
    "    L = yt*np.log(sigmoid(w,xt)) + (1-yt)*np.log((1-sigmoid(w,xt)))\n",
    "    return(L)\n",
    "\n",
    "def gradient(yt,w,xt):\n",
    "    dL = np.multiply(yt-sigmoid(w, xt), xt)\n",
    "    return(dL)\n",
    "\n",
    "def learn(x_data, y_data):\n",
    "    T = x_data.shape[0]\n",
    "    eta = 0.02/T\n",
    "    w = np.random.randint(2, size=x_data.shape[1])\n",
    "    Lw_list = []\n",
    "    percent_err = []\n",
    "    for i in range(STEPS):\n",
    "        Lw = 0\n",
    "        dL_sum = [0] * x_data.shape[1]\n",
    "        correct = 0\n",
    "        for j in range(T):\n",
    "            Lw += log_likelihood(y_data[j], w, x_data[j])\n",
    "            dL_sum += gradient(y_data[j], w, x_data[j])\n",
    "            if (y_data[j]==1 and sigmoid(w, x_data[j]) > 0.5) or (y_data[j]==0 and sigmoid(w, x_data[j]) < 0.5):\n",
    "                correct += 1\n",
    "        Lw_list.append(Lw)\n",
    "        w = w + eta*dL_sum\n",
    "        err = (T-correct)/T*1.0\n",
    "        percent_err.append(err)\n",
    "        if i%100 == 0 :\n",
    "            print('iteration %d' % i)\n",
    "            print('percent error=%f' % err)\n",
    "    return Lw_list, w, percent_err\n",
    "\n",
    "def predict(x_data, y_data, w):\n",
    "    correct = 0\n",
    "    for i in range(x_data.shape[0]):\n",
    "        s = sigmoid(w,x_data[i])\n",
    "        if (y_data[i]==1 and s>0.5) or (y_data[i]==0 and s<0.5):\n",
    "                correct += 1\n",
    "    err = (x_data.shape[0]-correct)/x_data.shape[0]*1.0\n",
    "    return err"
   ]
  },
  {
   "cell_type": "code",
   "execution_count": 42,
   "metadata": {
    "scrolled": true
   },
   "outputs": [
    {
     "name": "stdout",
     "output_type": "stream",
     "text": [
      "iteration 0\n",
      "err=0.500000\n",
      "iteration 100\n",
      "err=0.246429\n",
      "iteration 200\n",
      "err=0.177143\n",
      "iteration 300\n",
      "err=0.140000\n",
      "iteration 400\n",
      "err=0.117857\n",
      "iteration 500\n",
      "err=0.109286\n",
      "iteration 600\n",
      "err=0.102857\n",
      "iteration 700\n",
      "err=0.097143\n",
      "iteration 800\n",
      "err=0.091429\n",
      "iteration 900\n",
      "err=0.087143\n",
      "iteration 1000\n",
      "err=0.082857\n",
      "iteration 1100\n",
      "err=0.080714\n",
      "iteration 1200\n",
      "err=0.077143\n",
      "iteration 1300\n",
      "err=0.072143\n",
      "iteration 1400\n",
      "err=0.072143\n",
      "iteration 1500\n",
      "err=0.072143\n",
      "iteration 1600\n",
      "err=0.069286\n",
      "iteration 1700\n",
      "err=0.067143\n",
      "iteration 1800\n",
      "err=0.067143\n",
      "iteration 1900\n",
      "err=0.067143\n",
      "iteration 2000\n",
      "err=0.067143\n",
      "iteration 2100\n",
      "err=0.065714\n",
      "iteration 2200\n",
      "err=0.066429\n",
      "iteration 2300\n",
      "err=0.065000\n",
      "iteration 2400\n",
      "err=0.063571\n",
      "iteration 2500\n",
      "err=0.062143\n",
      "iteration 2600\n",
      "err=0.062857\n",
      "iteration 2700\n",
      "err=0.062857\n",
      "iteration 2800\n",
      "err=0.062143\n",
      "iteration 2900\n",
      "err=0.061429\n",
      "iteration 3000\n",
      "err=0.060714\n",
      "iteration 3100\n",
      "err=0.060714\n",
      "iteration 3200\n",
      "err=0.058571\n",
      "iteration 3300\n",
      "err=0.057857\n",
      "iteration 3400\n",
      "err=0.057857\n",
      "iteration 3500\n",
      "err=0.057143\n",
      "iteration 3600\n",
      "err=0.056429\n",
      "iteration 3700\n",
      "err=0.055714\n",
      "iteration 3800\n",
      "err=0.055000\n",
      "iteration 3900\n",
      "err=0.054286\n",
      "iteration 4000\n",
      "err=0.055000\n",
      "iteration 4100\n",
      "err=0.055000\n",
      "iteration 4200\n",
      "err=0.055000\n",
      "iteration 4300\n",
      "err=0.054286\n",
      "iteration 4400\n",
      "err=0.054286\n",
      "iteration 4500\n",
      "err=0.054286\n",
      "iteration 4600\n",
      "err=0.054286\n",
      "iteration 4700\n",
      "err=0.053571\n",
      "iteration 4800\n",
      "err=0.053571\n",
      "iteration 4900\n",
      "err=0.053571\n"
     ]
    }
   ],
   "source": [
    "Lw_train, w_train, err_train = learn(train, train_labs)"
   ]
  },
  {
   "cell_type": "code",
   "execution_count": 48,
   "metadata": {},
   "outputs": [
    {
     "data": {
      "image/png": "[encoded data removed]",
      "text/plain": [
       "<matplotlib.figure.Figure at 0x7f567a69ec50>"
      ]
     },
     "metadata": {},
     "output_type": "display_data"
    }
   ],
   "source": [
    "plt.plot(Lw_train)\n",
    "plt.title(\"Train Data: Log-likelihood\")\n",
    "plt.xlabel(\"iteration (t)\")\n",
    "plt.ylabel(\"Log-likelihood\")\n",
    "plt.savefig('log_likelihood.png')"
   ]
  },
  {
   "cell_type": "code",
   "execution_count": 53,
   "metadata": {},
   "outputs": [
    {
     "data": {
      "image/png": "[encoded data removed]",
      "text/plain": [
       "<matplotlib.figure.Figure at 0x7f567a62f940>"
      ]
     },
     "metadata": {},
     "output_type": "display_data"
    }
   ],
   "source": [
    "plt.plot(err_train)\n",
    "plt.title(\"Train Data: Percent error\")\n",
    "plt.xlabel(\"iteration (t)\")\n",
    "plt.ylabel(\"% error\")\n",
    "plt.savefig('error.png')"
   ]
  },
  {
   "cell_type": "code",
   "execution_count": 82,
   "metadata": {},
   "outputs": [],
   "source": [
    "# '\\n'.join([''.join(str(w_train[i:i+8])) for i in range(0,len(w_train),8)])\n",
    "with open('trained_weight_vector.txt', 'w') as f:\n",
    "    count = 0\n",
    "    for i in range(len(w_train)):\n",
    "        f.write(str(w_train[i]) + ' ')\n",
    "        count += 1\n",
    "        if count%8 == 0 and count>0:\n",
    "            count = 0\n",
    "            f.write('\\n')"
   ]
  },
  {
   "cell_type": "code",
   "execution_count": 74,
   "metadata": {},
   "outputs": [
    {
     "data": {
      "text/plain": [
       "[0.065,\n",
       " 0.06375,\n",
       " 0.0625,\n",
       " 0.06125,\n",
       " 0.06,\n",
       " 0.05875,\n",
       " 0.0575,\n",
       " 0.05625,\n",
       " 0.055,\n",
       " 0.05375]"
      ]
     },
     "execution_count": 74,
     "metadata": {},
     "output_type": "execute_result"
    }
   ],
   "source": [
    "test_err = predict(test, test_labs, w_train)\n",
    "test_err[-10:]"
   ]
  }
 ],
 "metadata": {
  "kernelspec": {
   "display_name": "Python 3",
   "language": "python",
   "name": "python3"
  },
  "language_info": {
   "codemirror_mode": {
    "name": "ipython",
    "version": 3
   },
   "file_extension": ".py",
   "mimetype": "text/x-python",
   "name": "python",
   "nbconvert_exporter": "python",
   "pygments_lexer": "ipython3",
   "version": "3.6.1"
  }
 },
 "nbformat": 4,
 "nbformat_minor": 2
}
